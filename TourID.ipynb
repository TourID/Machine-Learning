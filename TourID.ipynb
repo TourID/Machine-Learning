{
  "metadata": {
    "kernelspec": {
      "language": "python",
      "display_name": "Python 3",
      "name": "python3"
    },
    "language_info": {
      "name": "python",
      "version": "3.7.10",
      "mimetype": "text/x-python",
      "codemirror_mode": {
        "name": "ipython",
        "version": 3
      },
      "pygments_lexer": "ipython3",
      "nbconvert_exporter": "python",
      "file_extension": ".py"
    },
    "colab": {
      "provenance": [],
      "toc_visible": true
    }
  },
  "nbformat_minor": 0,
  "nbformat": 4,
  "cells": [
    {
      "cell_type": "markdown",
      "source": [
        "# Sistem Rekomendasi Destinasi Wisata Berbasis Collaborative Filtering\n",
        "<hr>\n"
      ],
      "metadata": {
        "id": "pl_OzIlMljtM"
      }
    },
    {
      "cell_type": "markdown",
      "source": [
        "## 1. Mengimpor Library Python yang Dibutuhkan"
      ],
      "metadata": {
        "id": "BfabEt9PlW3u"
      }
    },
    {
      "cell_type": "code",
      "source": [
        "# Untuk pengolahan data\n",
        "import pandas as pd\n",
        "import numpy as np\n",
        "from zipfile import ZipFile\n",
        "from pathlib import Path\n",
        "\n",
        "# Untuk visualisasi data\n",
        "import seaborn as sns\n",
        "import matplotlib.pyplot as plt\n",
        "\n",
        "%matplotlib inline\n",
        "sns.set_palette('Set1')\n",
        "sns.set()\n",
        "\n",
        "# Untuk pemodelan\n",
        "import tensorflow as tf\n",
        "from tensorflow import keras\n",
        "from tensorflow.keras import layers\n",
        "\n",
        "# Untuk menghilangkan warnings saat plotting seaborn\n",
        "import warnings\n",
        "warnings.filterwarnings('ignore')\n",
        "\n",
        "# Untuk mengupload file\n",
        "import os"
      ],
      "metadata": {
        "id": "nIgpP-3ihkU0",
        "execution": {
          "iopub.status.busy": "2021-10-27T02:47:50.289232Z",
          "iopub.execute_input": "2021-10-27T02:47:50.289722Z",
          "iopub.status.idle": "2021-10-27T02:47:57.225664Z",
          "shell.execute_reply.started": "2021-10-27T02:47:50.289616Z",
          "shell.execute_reply": "2021-10-27T02:47:57.224748Z"
        },
        "trusted": true
      },
      "execution_count": null,
      "outputs": []
    },
    {
      "cell_type": "markdown",
      "source": [
        "## 2. Menyiapkan Dataset yang digunakan"
      ],
      "metadata": {
        "id": "YuAzSI5xyBOJ"
      }
    },
    {
      "cell_type": "code",
      "source": [
        "# Upload semua dataset yang dipakai\n",
        "for dirname, _, filenames in os.walk('/kaggle/input'):\n",
        "    for filename in filenames:\n",
        "        print(os.path.join(dirname, filename))"
      ],
      "metadata": {
        "id": "u58NPqZhhn-l",
        "execution": {
          "iopub.status.busy": "2021-10-27T02:47:57.227763Z",
          "iopub.execute_input": "2021-10-27T02:47:57.228062Z",
          "iopub.status.idle": "2021-10-27T02:47:57.241949Z",
          "shell.execute_reply.started": "2021-10-27T02:47:57.228019Z",
          "shell.execute_reply": "2021-10-27T02:47:57.241285Z"
        },
        "trusted": true
      },
      "execution_count": null,
      "outputs": []
    },
    {
      "cell_type": "markdown",
      "source": [
        "## 3. Data Understanding"
      ],
      "metadata": {
        "id": "rQvGwWhCx3SZ"
      }
    },
    {
      "cell_type": "markdown",
      "source": [
        "### 3.1 Menyiapkan Data"
      ],
      "metadata": {
        "id": "VXlIb7w1yZkc"
      }
    },
    {
      "cell_type": "code",
      "source": [
        "# Menyimpan masing-masing dataset kedalam variabel\n",
        "\n",
        "rating = pd.read_csv('tourism_rating.csv')\n",
        "place = pd.read_csv('tourism_with_id.csv')\n",
        "user = pd.read_csv('user.csv')"
      ],
      "metadata": {
        "id": "1peKJ4nBjgDB",
        "execution": {
          "iopub.status.busy": "2021-10-27T02:47:57.243043Z",
          "iopub.execute_input": "2021-10-27T02:47:57.243377Z",
          "iopub.status.idle": "2021-10-27T02:47:57.301091Z",
          "shell.execute_reply.started": "2021-10-27T02:47:57.243347Z",
          "shell.execute_reply": "2021-10-27T02:47:57.300402Z"
        },
        "trusted": true,
        "colab": {
          "base_uri": "https://localhost:8080/",
          "height": 356
        },
        "outputId": "fe89ebfb-c98a-4251-a347-fe406703ab03"
      },
      "execution_count": null,
      "outputs": [
        {
          "output_type": "error",
          "ename": "FileNotFoundError",
          "evalue": "[Errno 2] No such file or directory: 'tourism_rating.csv'",
          "traceback": [
            "\u001b[0;31m---------------------------------------------------------------------------\u001b[0m",
            "\u001b[0;31mFileNotFoundError\u001b[0m                         Traceback (most recent call last)",
            "\u001b[0;32m<ipython-input-6-163c490adf8f>\u001b[0m in \u001b[0;36m<cell line: 3>\u001b[0;34m()\u001b[0m\n\u001b[1;32m      1\u001b[0m \u001b[0;31m# Menyimpan masing-masing dataset kedalam variabel\u001b[0m\u001b[0;34m\u001b[0m\u001b[0;34m\u001b[0m\u001b[0m\n\u001b[1;32m      2\u001b[0m \u001b[0;34m\u001b[0m\u001b[0m\n\u001b[0;32m----> 3\u001b[0;31m \u001b[0mrating\u001b[0m \u001b[0;34m=\u001b[0m \u001b[0mpd\u001b[0m\u001b[0;34m.\u001b[0m\u001b[0mread_csv\u001b[0m\u001b[0;34m(\u001b[0m\u001b[0;34m'tourism_rating.csv'\u001b[0m\u001b[0;34m)\u001b[0m\u001b[0;34m\u001b[0m\u001b[0;34m\u001b[0m\u001b[0m\n\u001b[0m\u001b[1;32m      4\u001b[0m \u001b[0mplace\u001b[0m \u001b[0;34m=\u001b[0m \u001b[0mpd\u001b[0m\u001b[0;34m.\u001b[0m\u001b[0mread_csv\u001b[0m\u001b[0;34m(\u001b[0m\u001b[0;34m'tourism_with_id.csv'\u001b[0m\u001b[0;34m)\u001b[0m\u001b[0;34m\u001b[0m\u001b[0;34m\u001b[0m\u001b[0m\n\u001b[1;32m      5\u001b[0m \u001b[0muser\u001b[0m \u001b[0;34m=\u001b[0m \u001b[0mpd\u001b[0m\u001b[0;34m.\u001b[0m\u001b[0mread_csv\u001b[0m\u001b[0;34m(\u001b[0m\u001b[0;34m'user.csv'\u001b[0m\u001b[0;34m)\u001b[0m\u001b[0;34m\u001b[0m\u001b[0;34m\u001b[0m\u001b[0m\n",
            "\u001b[0;32m/usr/local/lib/python3.10/dist-packages/pandas/io/parsers/readers.py\u001b[0m in \u001b[0;36mread_csv\u001b[0;34m(filepath_or_buffer, sep, delimiter, header, names, index_col, usecols, dtype, engine, converters, true_values, false_values, skipinitialspace, skiprows, skipfooter, nrows, na_values, keep_default_na, na_filter, verbose, skip_blank_lines, parse_dates, infer_datetime_format, keep_date_col, date_parser, date_format, dayfirst, cache_dates, iterator, chunksize, compression, thousands, decimal, lineterminator, quotechar, quoting, doublequote, escapechar, comment, encoding, encoding_errors, dialect, on_bad_lines, delim_whitespace, low_memory, memory_map, float_precision, storage_options, dtype_backend)\u001b[0m\n\u001b[1;32m    910\u001b[0m     \u001b[0mkwds\u001b[0m\u001b[0;34m.\u001b[0m\u001b[0mupdate\u001b[0m\u001b[0;34m(\u001b[0m\u001b[0mkwds_defaults\u001b[0m\u001b[0;34m)\u001b[0m\u001b[0;34m\u001b[0m\u001b[0;34m\u001b[0m\u001b[0m\n\u001b[1;32m    911\u001b[0m \u001b[0;34m\u001b[0m\u001b[0m\n\u001b[0;32m--> 912\u001b[0;31m     \u001b[0;32mreturn\u001b[0m \u001b[0m_read\u001b[0m\u001b[0;34m(\u001b[0m\u001b[0mfilepath_or_buffer\u001b[0m\u001b[0;34m,\u001b[0m \u001b[0mkwds\u001b[0m\u001b[0;34m)\u001b[0m\u001b[0;34m\u001b[0m\u001b[0;34m\u001b[0m\u001b[0m\n\u001b[0m\u001b[1;32m    913\u001b[0m \u001b[0;34m\u001b[0m\u001b[0m\n\u001b[1;32m    914\u001b[0m \u001b[0;34m\u001b[0m\u001b[0m\n",
            "\u001b[0;32m/usr/local/lib/python3.10/dist-packages/pandas/io/parsers/readers.py\u001b[0m in \u001b[0;36m_read\u001b[0;34m(filepath_or_buffer, kwds)\u001b[0m\n\u001b[1;32m    575\u001b[0m \u001b[0;34m\u001b[0m\u001b[0m\n\u001b[1;32m    576\u001b[0m     \u001b[0;31m# Create the parser.\u001b[0m\u001b[0;34m\u001b[0m\u001b[0;34m\u001b[0m\u001b[0m\n\u001b[0;32m--> 577\u001b[0;31m     \u001b[0mparser\u001b[0m \u001b[0;34m=\u001b[0m \u001b[0mTextFileReader\u001b[0m\u001b[0;34m(\u001b[0m\u001b[0mfilepath_or_buffer\u001b[0m\u001b[0;34m,\u001b[0m \u001b[0;34m**\u001b[0m\u001b[0mkwds\u001b[0m\u001b[0;34m)\u001b[0m\u001b[0;34m\u001b[0m\u001b[0;34m\u001b[0m\u001b[0m\n\u001b[0m\u001b[1;32m    578\u001b[0m \u001b[0;34m\u001b[0m\u001b[0m\n\u001b[1;32m    579\u001b[0m     \u001b[0;32mif\u001b[0m \u001b[0mchunksize\u001b[0m \u001b[0;32mor\u001b[0m \u001b[0miterator\u001b[0m\u001b[0;34m:\u001b[0m\u001b[0;34m\u001b[0m\u001b[0;34m\u001b[0m\u001b[0m\n",
            "\u001b[0;32m/usr/local/lib/python3.10/dist-packages/pandas/io/parsers/readers.py\u001b[0m in \u001b[0;36m__init__\u001b[0;34m(self, f, engine, **kwds)\u001b[0m\n\u001b[1;32m   1405\u001b[0m \u001b[0;34m\u001b[0m\u001b[0m\n\u001b[1;32m   1406\u001b[0m         \u001b[0mself\u001b[0m\u001b[0;34m.\u001b[0m\u001b[0mhandles\u001b[0m\u001b[0;34m:\u001b[0m \u001b[0mIOHandles\u001b[0m \u001b[0;34m|\u001b[0m \u001b[0;32mNone\u001b[0m \u001b[0;34m=\u001b[0m \u001b[0;32mNone\u001b[0m\u001b[0;34m\u001b[0m\u001b[0;34m\u001b[0m\u001b[0m\n\u001b[0;32m-> 1407\u001b[0;31m         \u001b[0mself\u001b[0m\u001b[0;34m.\u001b[0m\u001b[0m_engine\u001b[0m \u001b[0;34m=\u001b[0m \u001b[0mself\u001b[0m\u001b[0;34m.\u001b[0m\u001b[0m_make_engine\u001b[0m\u001b[0;34m(\u001b[0m\u001b[0mf\u001b[0m\u001b[0;34m,\u001b[0m \u001b[0mself\u001b[0m\u001b[0;34m.\u001b[0m\u001b[0mengine\u001b[0m\u001b[0;34m)\u001b[0m\u001b[0;34m\u001b[0m\u001b[0;34m\u001b[0m\u001b[0m\n\u001b[0m\u001b[1;32m   1408\u001b[0m \u001b[0;34m\u001b[0m\u001b[0m\n\u001b[1;32m   1409\u001b[0m     \u001b[0;32mdef\u001b[0m \u001b[0mclose\u001b[0m\u001b[0;34m(\u001b[0m\u001b[0mself\u001b[0m\u001b[0;34m)\u001b[0m \u001b[0;34m->\u001b[0m \u001b[0;32mNone\u001b[0m\u001b[0;34m:\u001b[0m\u001b[0;34m\u001b[0m\u001b[0;34m\u001b[0m\u001b[0m\n",
            "\u001b[0;32m/usr/local/lib/python3.10/dist-packages/pandas/io/parsers/readers.py\u001b[0m in \u001b[0;36m_make_engine\u001b[0;34m(self, f, engine)\u001b[0m\n\u001b[1;32m   1659\u001b[0m                 \u001b[0;32mif\u001b[0m \u001b[0;34m\"b\"\u001b[0m \u001b[0;32mnot\u001b[0m \u001b[0;32min\u001b[0m \u001b[0mmode\u001b[0m\u001b[0;34m:\u001b[0m\u001b[0;34m\u001b[0m\u001b[0;34m\u001b[0m\u001b[0m\n\u001b[1;32m   1660\u001b[0m                     \u001b[0mmode\u001b[0m \u001b[0;34m+=\u001b[0m \u001b[0;34m\"b\"\u001b[0m\u001b[0;34m\u001b[0m\u001b[0;34m\u001b[0m\u001b[0m\n\u001b[0;32m-> 1661\u001b[0;31m             self.handles = get_handle(\n\u001b[0m\u001b[1;32m   1662\u001b[0m                 \u001b[0mf\u001b[0m\u001b[0;34m,\u001b[0m\u001b[0;34m\u001b[0m\u001b[0;34m\u001b[0m\u001b[0m\n\u001b[1;32m   1663\u001b[0m                 \u001b[0mmode\u001b[0m\u001b[0;34m,\u001b[0m\u001b[0;34m\u001b[0m\u001b[0;34m\u001b[0m\u001b[0m\n",
            "\u001b[0;32m/usr/local/lib/python3.10/dist-packages/pandas/io/common.py\u001b[0m in \u001b[0;36mget_handle\u001b[0;34m(path_or_buf, mode, encoding, compression, memory_map, is_text, errors, storage_options)\u001b[0m\n\u001b[1;32m    857\u001b[0m         \u001b[0;32mif\u001b[0m \u001b[0mioargs\u001b[0m\u001b[0;34m.\u001b[0m\u001b[0mencoding\u001b[0m \u001b[0;32mand\u001b[0m \u001b[0;34m\"b\"\u001b[0m \u001b[0;32mnot\u001b[0m \u001b[0;32min\u001b[0m \u001b[0mioargs\u001b[0m\u001b[0;34m.\u001b[0m\u001b[0mmode\u001b[0m\u001b[0;34m:\u001b[0m\u001b[0;34m\u001b[0m\u001b[0;34m\u001b[0m\u001b[0m\n\u001b[1;32m    858\u001b[0m             \u001b[0;31m# Encoding\u001b[0m\u001b[0;34m\u001b[0m\u001b[0;34m\u001b[0m\u001b[0m\n\u001b[0;32m--> 859\u001b[0;31m             handle = open(\n\u001b[0m\u001b[1;32m    860\u001b[0m                 \u001b[0mhandle\u001b[0m\u001b[0;34m,\u001b[0m\u001b[0;34m\u001b[0m\u001b[0;34m\u001b[0m\u001b[0m\n\u001b[1;32m    861\u001b[0m                 \u001b[0mioargs\u001b[0m\u001b[0;34m.\u001b[0m\u001b[0mmode\u001b[0m\u001b[0;34m,\u001b[0m\u001b[0;34m\u001b[0m\u001b[0;34m\u001b[0m\u001b[0m\n",
            "\u001b[0;31mFileNotFoundError\u001b[0m: [Errno 2] No such file or directory: 'tourism_rating.csv'"
          ]
        }
      ]
    },
    {
      "cell_type": "markdown",
      "source": [
        "### 3.2 Eksplorasi Fitur-fitur pada Data"
      ],
      "metadata": {
        "id": "IhgAOgsTyeaX"
      }
    },
    {
      "cell_type": "markdown",
      "source": [
        "#### 3.2.1. Data place"
      ],
      "metadata": {
        "id": "Tc6EM20Iywo3"
      }
    },
    {
      "cell_type": "code",
      "source": [
        "# Melihat gambaran data place\n",
        "\n",
        "place.head(2)"
      ],
      "metadata": {
        "id": "HnXNiyxt0hb3",
        "outputId": "2df4a667-136a-4bcc-fb97-cc74758e78ea",
        "execution": {
          "iopub.status.busy": "2021-10-27T02:47:57.302999Z",
          "iopub.execute_input": "2021-10-27T02:47:57.303450Z",
          "iopub.status.idle": "2021-10-27T02:47:57.326257Z",
          "shell.execute_reply.started": "2021-10-27T02:47:57.303417Z",
          "shell.execute_reply": "2021-10-27T02:47:57.325692Z"
        },
        "trusted": true,
        "colab": {
          "base_uri": "https://localhost:8080/",
          "height": 112
        }
      },
      "execution_count": null,
      "outputs": [
        {
          "output_type": "execute_result",
          "data": {
            "text/plain": [
              "   Place_Id        Place_Name  \\\n",
              "0         1  Monumen Nasional   \n",
              "1         2          Kota Tua   \n",
              "\n",
              "                                         Description Category     City  Price  \\\n",
              "0  Monumen Nasional atau yang populer disingkat d...   Budaya  Jakarta  20000   \n",
              "1  Kota tua di Jakarta, yang juga bernama Kota Tu...   Budaya  Jakarta      0   \n",
              "\n",
              "   Rating                                       Coordinate       Lat  \\\n",
              "0     4.6          {'lat': -6.1753924, 'lng': 106.8271528} -6.175392   \n",
              "1     4.6  {'lat': -6.137644799999999, 'lng': 106.8171245} -6.137645   \n",
              "\n",
              "         Long  \n",
              "0  106.827153  \n",
              "1  106.817125  "
            ],
            "text/html": [
              "\n",
              "  <div id=\"df-a6caf81b-cee9-4386-8e2b-f58575bf63b6\" class=\"colab-df-container\">\n",
              "    <div>\n",
              "<style scoped>\n",
              "    .dataframe tbody tr th:only-of-type {\n",
              "        vertical-align: middle;\n",
              "    }\n",
              "\n",
              "    .dataframe tbody tr th {\n",
              "        vertical-align: top;\n",
              "    }\n",
              "\n",
              "    .dataframe thead th {\n",
              "        text-align: right;\n",
              "    }\n",
              "</style>\n",
              "<table border=\"1\" class=\"dataframe\">\n",
              "  <thead>\n",
              "    <tr style=\"text-align: right;\">\n",
              "      <th></th>\n",
              "      <th>Place_Id</th>\n",
              "      <th>Place_Name</th>\n",
              "      <th>Description</th>\n",
              "      <th>Category</th>\n",
              "      <th>City</th>\n",
              "      <th>Price</th>\n",
              "      <th>Rating</th>\n",
              "      <th>Coordinate</th>\n",
              "      <th>Lat</th>\n",
              "      <th>Long</th>\n",
              "    </tr>\n",
              "  </thead>\n",
              "  <tbody>\n",
              "    <tr>\n",
              "      <th>0</th>\n",
              "      <td>1</td>\n",
              "      <td>Monumen Nasional</td>\n",
              "      <td>Monumen Nasional atau yang populer disingkat d...</td>\n",
              "      <td>Budaya</td>\n",
              "      <td>Jakarta</td>\n",
              "      <td>20000</td>\n",
              "      <td>4.6</td>\n",
              "      <td>{'lat': -6.1753924, 'lng': 106.8271528}</td>\n",
              "      <td>-6.175392</td>\n",
              "      <td>106.827153</td>\n",
              "    </tr>\n",
              "    <tr>\n",
              "      <th>1</th>\n",
              "      <td>2</td>\n",
              "      <td>Kota Tua</td>\n",
              "      <td>Kota tua di Jakarta, yang juga bernama Kota Tu...</td>\n",
              "      <td>Budaya</td>\n",
              "      <td>Jakarta</td>\n",
              "      <td>0</td>\n",
              "      <td>4.6</td>\n",
              "      <td>{'lat': -6.137644799999999, 'lng': 106.8171245}</td>\n",
              "      <td>-6.137645</td>\n",
              "      <td>106.817125</td>\n",
              "    </tr>\n",
              "  </tbody>\n",
              "</table>\n",
              "</div>\n",
              "    <div class=\"colab-df-buttons\">\n",
              "\n",
              "  <div class=\"colab-df-container\">\n",
              "    <button class=\"colab-df-convert\" onclick=\"convertToInteractive('df-a6caf81b-cee9-4386-8e2b-f58575bf63b6')\"\n",
              "            title=\"Convert this dataframe to an interactive table.\"\n",
              "            style=\"display:none;\">\n",
              "\n",
              "  <svg xmlns=\"http://www.w3.org/2000/svg\" height=\"24px\" viewBox=\"0 -960 960 960\">\n",
              "    <path d=\"M120-120v-720h720v720H120Zm60-500h600v-160H180v160Zm220 220h160v-160H400v160Zm0 220h160v-160H400v160ZM180-400h160v-160H180v160Zm440 0h160v-160H620v160ZM180-180h160v-160H180v160Zm440 0h160v-160H620v160Z\"/>\n",
              "  </svg>\n",
              "    </button>\n",
              "\n",
              "  <style>\n",
              "    .colab-df-container {\n",
              "      display:flex;\n",
              "      gap: 12px;\n",
              "    }\n",
              "\n",
              "    .colab-df-convert {\n",
              "      background-color: #E8F0FE;\n",
              "      border: none;\n",
              "      border-radius: 50%;\n",
              "      cursor: pointer;\n",
              "      display: none;\n",
              "      fill: #1967D2;\n",
              "      height: 32px;\n",
              "      padding: 0 0 0 0;\n",
              "      width: 32px;\n",
              "    }\n",
              "\n",
              "    .colab-df-convert:hover {\n",
              "      background-color: #E2EBFA;\n",
              "      box-shadow: 0px 1px 2px rgba(60, 64, 67, 0.3), 0px 1px 3px 1px rgba(60, 64, 67, 0.15);\n",
              "      fill: #174EA6;\n",
              "    }\n",
              "\n",
              "    .colab-df-buttons div {\n",
              "      margin-bottom: 4px;\n",
              "    }\n",
              "\n",
              "    [theme=dark] .colab-df-convert {\n",
              "      background-color: #3B4455;\n",
              "      fill: #D2E3FC;\n",
              "    }\n",
              "\n",
              "    [theme=dark] .colab-df-convert:hover {\n",
              "      background-color: #434B5C;\n",
              "      box-shadow: 0px 1px 3px 1px rgba(0, 0, 0, 0.15);\n",
              "      filter: drop-shadow(0px 1px 2px rgba(0, 0, 0, 0.3));\n",
              "      fill: #FFFFFF;\n",
              "    }\n",
              "  </style>\n",
              "\n",
              "    <script>\n",
              "      const buttonEl =\n",
              "        document.querySelector('#df-a6caf81b-cee9-4386-8e2b-f58575bf63b6 button.colab-df-convert');\n",
              "      buttonEl.style.display =\n",
              "        google.colab.kernel.accessAllowed ? 'block' : 'none';\n",
              "\n",
              "      async function convertToInteractive(key) {\n",
              "        const element = document.querySelector('#df-a6caf81b-cee9-4386-8e2b-f58575bf63b6');\n",
              "        const dataTable =\n",
              "          await google.colab.kernel.invokeFunction('convertToInteractive',\n",
              "                                                    [key], {});\n",
              "        if (!dataTable) return;\n",
              "\n",
              "        const docLinkHtml = 'Like what you see? Visit the ' +\n",
              "          '<a target=\"_blank\" href=https://colab.research.google.com/notebooks/data_table.ipynb>data table notebook</a>'\n",
              "          + ' to learn more about interactive tables.';\n",
              "        element.innerHTML = '';\n",
              "        dataTable['output_type'] = 'display_data';\n",
              "        await google.colab.output.renderOutput(dataTable, element);\n",
              "        const docLink = document.createElement('div');\n",
              "        docLink.innerHTML = docLinkHtml;\n",
              "        element.appendChild(docLink);\n",
              "      }\n",
              "    </script>\n",
              "  </div>\n",
              "\n",
              "\n",
              "<div id=\"df-250a8169-a57b-436c-956e-57a829d2808e\">\n",
              "  <button class=\"colab-df-quickchart\" onclick=\"quickchart('df-250a8169-a57b-436c-956e-57a829d2808e')\"\n",
              "            title=\"Suggest charts\"\n",
              "            style=\"display:none;\">\n",
              "\n",
              "<svg xmlns=\"http://www.w3.org/2000/svg\" height=\"24px\"viewBox=\"0 0 24 24\"\n",
              "     width=\"24px\">\n",
              "    <g>\n",
              "        <path d=\"M19 3H5c-1.1 0-2 .9-2 2v14c0 1.1.9 2 2 2h14c1.1 0 2-.9 2-2V5c0-1.1-.9-2-2-2zM9 17H7v-7h2v7zm4 0h-2V7h2v10zm4 0h-2v-4h2v4z\"/>\n",
              "    </g>\n",
              "</svg>\n",
              "  </button>\n",
              "\n",
              "<style>\n",
              "  .colab-df-quickchart {\n",
              "      --bg-color: #E8F0FE;\n",
              "      --fill-color: #1967D2;\n",
              "      --hover-bg-color: #E2EBFA;\n",
              "      --hover-fill-color: #174EA6;\n",
              "      --disabled-fill-color: #AAA;\n",
              "      --disabled-bg-color: #DDD;\n",
              "  }\n",
              "\n",
              "  [theme=dark] .colab-df-quickchart {\n",
              "      --bg-color: #3B4455;\n",
              "      --fill-color: #D2E3FC;\n",
              "      --hover-bg-color: #434B5C;\n",
              "      --hover-fill-color: #FFFFFF;\n",
              "      --disabled-bg-color: #3B4455;\n",
              "      --disabled-fill-color: #666;\n",
              "  }\n",
              "\n",
              "  .colab-df-quickchart {\n",
              "    background-color: var(--bg-color);\n",
              "    border: none;\n",
              "    border-radius: 50%;\n",
              "    cursor: pointer;\n",
              "    display: none;\n",
              "    fill: var(--fill-color);\n",
              "    height: 32px;\n",
              "    padding: 0;\n",
              "    width: 32px;\n",
              "  }\n",
              "\n",
              "  .colab-df-quickchart:hover {\n",
              "    background-color: var(--hover-bg-color);\n",
              "    box-shadow: 0 1px 2px rgba(60, 64, 67, 0.3), 0 1px 3px 1px rgba(60, 64, 67, 0.15);\n",
              "    fill: var(--button-hover-fill-color);\n",
              "  }\n",
              "\n",
              "  .colab-df-quickchart-complete:disabled,\n",
              "  .colab-df-quickchart-complete:disabled:hover {\n",
              "    background-color: var(--disabled-bg-color);\n",
              "    fill: var(--disabled-fill-color);\n",
              "    box-shadow: none;\n",
              "  }\n",
              "\n",
              "  .colab-df-spinner {\n",
              "    border: 2px solid var(--fill-color);\n",
              "    border-color: transparent;\n",
              "    border-bottom-color: var(--fill-color);\n",
              "    animation:\n",
              "      spin 1s steps(1) infinite;\n",
              "  }\n",
              "\n",
              "  @keyframes spin {\n",
              "    0% {\n",
              "      border-color: transparent;\n",
              "      border-bottom-color: var(--fill-color);\n",
              "      border-left-color: var(--fill-color);\n",
              "    }\n",
              "    20% {\n",
              "      border-color: transparent;\n",
              "      border-left-color: var(--fill-color);\n",
              "      border-top-color: var(--fill-color);\n",
              "    }\n",
              "    30% {\n",
              "      border-color: transparent;\n",
              "      border-left-color: var(--fill-color);\n",
              "      border-top-color: var(--fill-color);\n",
              "      border-right-color: var(--fill-color);\n",
              "    }\n",
              "    40% {\n",
              "      border-color: transparent;\n",
              "      border-right-color: var(--fill-color);\n",
              "      border-top-color: var(--fill-color);\n",
              "    }\n",
              "    60% {\n",
              "      border-color: transparent;\n",
              "      border-right-color: var(--fill-color);\n",
              "    }\n",
              "    80% {\n",
              "      border-color: transparent;\n",
              "      border-right-color: var(--fill-color);\n",
              "      border-bottom-color: var(--fill-color);\n",
              "    }\n",
              "    90% {\n",
              "      border-color: transparent;\n",
              "      border-bottom-color: var(--fill-color);\n",
              "    }\n",
              "  }\n",
              "</style>\n",
              "\n",
              "  <script>\n",
              "    async function quickchart(key) {\n",
              "      const quickchartButtonEl =\n",
              "        document.querySelector('#' + key + ' button');\n",
              "      quickchartButtonEl.disabled = true;  // To prevent multiple clicks.\n",
              "      quickchartButtonEl.classList.add('colab-df-spinner');\n",
              "      try {\n",
              "        const charts = await google.colab.kernel.invokeFunction(\n",
              "            'suggestCharts', [key], {});\n",
              "      } catch (error) {\n",
              "        console.error('Error during call to suggestCharts:', error);\n",
              "      }\n",
              "      quickchartButtonEl.classList.remove('colab-df-spinner');\n",
              "      quickchartButtonEl.classList.add('colab-df-quickchart-complete');\n",
              "    }\n",
              "    (() => {\n",
              "      let quickchartButtonEl =\n",
              "        document.querySelector('#df-250a8169-a57b-436c-956e-57a829d2808e button');\n",
              "      quickchartButtonEl.style.display =\n",
              "        google.colab.kernel.accessAllowed ? 'block' : 'none';\n",
              "    })();\n",
              "  </script>\n",
              "</div>\n",
              "    </div>\n",
              "  </div>\n"
            ],
            "application/vnd.google.colaboratory.intrinsic+json": {
              "type": "dataframe",
              "variable_name": "place",
              "summary": "{\n  \"name\": \"place\",\n  \"rows\": 437,\n  \"fields\": [\n    {\n      \"column\": \"Place_Id\",\n      \"properties\": {\n        \"dtype\": \"number\",\n        \"std\": 126,\n        \"min\": 1,\n        \"max\": 437,\n        \"num_unique_values\": 437,\n        \"samples\": [\n          396,\n          79,\n          279\n        ],\n        \"semantic_type\": \"\",\n        \"description\": \"\"\n      }\n    },\n    {\n      \"column\": \"Place_Name\",\n      \"properties\": {\n        \"dtype\": \"string\",\n        \"num_unique_values\": 437,\n        \"samples\": [\n          \"Monumen Kapal Selam\",\n          \"Taman Spathodea\",\n          \"Masjid Agung Trans Studio Bandung\"\n        ],\n        \"semantic_type\": \"\",\n        \"description\": \"\"\n      }\n    },\n    {\n      \"column\": \"Description\",\n      \"properties\": {\n        \"dtype\": \"string\",\n        \"num_unique_values\": 437,\n        \"samples\": [\n          \"Monumen Kapal Selam, atau disingkat Monkasel, adalah sebuah museum kapal selam yang terdapat di Embong Kaliasin, Genteng, Surabaya. Terletak di pusat kota, monumen ini sebenarnya merupakan kapal selam KRI Pasopati 410, salah satu armada Angkatan Laut Republik Indonesia buatan Uni Soviet tahun 1952. Kapal selam ini pernah dilibatkan dalam Pertempuran Laut Aru untuk membebaskan Irian Barat dari pendudukan Belanda.\\\\nKapal selam ini kemudian dibawa ke darat dan dijadikan monumen untuk memperingati keberanian pahlawan Indonesia. Monkasel berada di Jalan Pemuda, tepat di sebelah Plaza Surabaya. Selain interior kapal selam, di sini juga diadakan pemutaran film tentang proses peperangan yang terjadi di Laut Aru. Jika ingin mengunjungi tempat wisata ini, maka akan ditemani oleh seorang pemandu lokal yang terdapat di sana.\\\\nAda cerita unik di balik hadirnya monumen Kapal Selam ini. Pada suatu malam Pak Drajat Budiyanto yang merupakan mantan KKM KRI Pasopati 410 (buatan Rusia) ini dan juga mantan KKM KRI Cakra 401 (buatan Jerman Barat), bermimpi diperintahkan oleh KSAL pada waktu itu untuk membawa kapal selam ini melayari Kali Mas. Ternyata mimpi itu menjadi kenyataan. Dia ditugaskan untuk memajang kapal selam di samping Surabaya Plaza. Caranya dengan memotong kapal selam ini menjadi beberapa bagian, kemudian diangkut ke darat, dan dirangkai dan disambung kembali menjadi kapal selam yang utuh.\",\n          \"Objek Wisata Taman Spathodea di Jagakarsa DKI Jakarta Selatan Jakarta adalah salah satu tempat wisata yang berada di Jl. Kebagusan Raya, Kecamatan Jagakarsa, Kota Jakarta Selatan, Daerah Khusus Ibukota Jakarta, Indonesia. Objek Wisata Taman Spathodea di Jagakarsa DKI Jakarta Selatan Jakarta adalah tempat wisata yang ramai dengan wisatawan pada hari biasa maupun saat liburan. Yang menjadi daya tarik Taman Spathodea memiliki banyak jenis tanaman yang ditanam baik pepohonan dan bunga-bunga yang menghiasi area taman. Ada danau kecil yang berada ditengah taman akan membuat nyaman pengunjung. Banyak Fasilitas umum juga tersedia di Taman Spathodea seperti misalnya lintasan jogging, kolam ikan, outdoor gym, taman bermain untuk anak-anak, toilet, parkiran yang cukup luas dan tempat duduk yang cukup nyaman. Taman Spathodea ini hanya buka mulai pukul 05.00 \\u2013 18.00 WIB jadi kalo sudah mulai malam taman ini akan ditutup untuk umum.\",\n          \"Masjid Agung Trans Studio Bandung (TSB) berdiri megah. Rumah ibadah seluas 4.000 meter persegi bergaya Timur Tengah ini menjadi oase di tengah-tengah pusat perbelanjaan dan tempat rekreasi. konsep masjid modern yang mengadopsi ala Timur Tengah ini berdasarkan arahan Chairul Tanjung (CT), selaku pemiki CT Corp. Dia langsung menerawang guna mewujudkan desain Masjid Agung TSB yang kental dengan sentuhan Masjid Nabawi.\"\n        ],\n        \"semantic_type\": \"\",\n        \"description\": \"\"\n      }\n    },\n    {\n      \"column\": \"Category\",\n      \"properties\": {\n        \"dtype\": \"category\",\n        \"num_unique_values\": 6,\n        \"samples\": [\n          \"Budaya\",\n          \"Taman Hiburan\",\n          \"Tempat Ibadah\"\n        ],\n        \"semantic_type\": \"\",\n        \"description\": \"\"\n      }\n    },\n    {\n      \"column\": \"City\",\n      \"properties\": {\n        \"dtype\": \"category\",\n        \"num_unique_values\": 5,\n        \"samples\": [\n          \"Yogyakarta\",\n          \"Surabaya\",\n          \"Bandung\"\n        ],\n        \"semantic_type\": \"\",\n        \"description\": \"\"\n      }\n    },\n    {\n      \"column\": \"Price\",\n      \"properties\": {\n        \"dtype\": \"number\",\n        \"std\": 66446,\n        \"min\": 0,\n        \"max\": 900000,\n        \"num_unique_values\": 50,\n        \"samples\": [\n          185000,\n          81000,\n          7000\n        ],\n        \"semantic_type\": \"\",\n        \"description\": \"\"\n      }\n    },\n    {\n      \"column\": \"Rating\",\n      \"properties\": {\n        \"dtype\": \"number\",\n        \"std\": 0.2085873964321156,\n        \"min\": 3.4,\n        \"max\": 5.0,\n        \"num_unique_values\": 14,\n        \"samples\": [\n          4.1,\n          3.9,\n          4.6\n        ],\n        \"semantic_type\": \"\",\n        \"description\": \"\"\n      }\n    },\n    {\n      \"column\": \"Coordinate\",\n      \"properties\": {\n        \"dtype\": \"string\",\n        \"num_unique_values\": 437,\n        \"samples\": [\n          \"{'lat': -7.2654304, 'lng': 112.7503052}\",\n          \"{'lat': -6.3226133, 'lng': 106.8241871}\",\n          \"{'lat': -6.925963500000001, 'lng': 107.6354278}\"\n        ],\n        \"semantic_type\": \"\",\n        \"description\": \"\"\n      }\n    },\n    {\n      \"column\": \"Lat\",\n      \"properties\": {\n        \"dtype\": \"number\",\n        \"std\": 0.72724121847959,\n        \"min\": -8.1978943,\n        \"max\": 1.07888,\n        \"num_unique_values\": 437,\n        \"samples\": [\n          -7.2654304,\n          -6.3226133,\n          -6.9259635\n        ],\n        \"semantic_type\": \"\",\n        \"description\": \"\"\n      }\n    },\n    {\n      \"column\": \"Long\",\n      \"properties\": {\n        \"dtype\": \"number\",\n        \"std\": 1.9628479600673732,\n        \"min\": 103.931398,\n        \"max\": 112.8216622,\n        \"num_unique_values\": 437,\n        \"samples\": [\n          112.7503052,\n          106.8241871,\n          107.6354278\n        ],\n        \"semantic_type\": \"\",\n        \"description\": \"\"\n      }\n    }\n  ]\n}"
            }
          },
          "metadata": {},
          "execution_count": 55
        }
      ]
    },
    {
      "cell_type": "code",
      "source": [
        "# Membuang kolom yang tidak dipakai\n",
        "\n",
        "place = place.drop(['Unnamed: 11','Unnamed: 12'],axis=1)\n",
        "place.head(2)"
      ],
      "metadata": {
        "id": "eFZErucJzMKU",
        "execution": {
          "iopub.status.busy": "2021-10-27T02:47:57.327309Z",
          "iopub.execute_input": "2021-10-27T02:47:57.327674Z",
          "iopub.status.idle": "2021-10-27T02:47:57.348001Z",
          "shell.execute_reply.started": "2021-10-27T02:47:57.327644Z",
          "shell.execute_reply": "2021-10-27T02:47:57.347307Z"
        },
        "trusted": true
      },
      "execution_count": null,
      "outputs": []
    },
    {
      "cell_type": "code",
      "source": [
        "place.info()"
      ],
      "metadata": {
        "id": "VhvGY2QEzghW",
        "execution": {
          "iopub.status.busy": "2021-10-27T02:47:57.373432Z",
          "iopub.execute_input": "2021-10-27T02:47:57.373856Z",
          "iopub.status.idle": "2021-10-27T02:47:57.391689Z",
          "shell.execute_reply.started": "2021-10-27T02:47:57.373822Z",
          "shell.execute_reply": "2021-10-27T02:47:57.390860Z"
        },
        "trusted": true
      },
      "execution_count": null,
      "outputs": []
    },
    {
      "cell_type": "code",
      "source": [
        "# Membuang kolom yang tidak dipakai\n",
        "\n",
        "place = place.drop('Time_Minutes', axis=1)"
      ],
      "metadata": {
        "id": "uO8SEj_mznSb",
        "execution": {
          "iopub.status.busy": "2021-10-27T02:47:57.393086Z",
          "iopub.execute_input": "2021-10-27T02:47:57.393332Z",
          "iopub.status.idle": "2021-10-27T02:47:57.398190Z",
          "shell.execute_reply.started": "2021-10-27T02:47:57.393302Z",
          "shell.execute_reply": "2021-10-27T02:47:57.397561Z"
        },
        "trusted": true
      },
      "execution_count": null,
      "outputs": []
    },
    {
      "cell_type": "markdown",
      "source": [
        "#### 3.2.2. Data rating"
      ],
      "metadata": {
        "id": "MkmQhBc9yrpq"
      }
    },
    {
      "cell_type": "code",
      "source": [
        "# melihat gambaran data rating\n",
        "\n",
        "rating.head()"
      ],
      "metadata": {
        "id": "6LQMIb7s0cFU",
        "execution": {
          "iopub.status.busy": "2021-10-27T02:47:57.399150Z",
          "iopub.execute_input": "2021-10-27T02:47:57.399565Z",
          "iopub.status.idle": "2021-10-27T02:47:57.414473Z",
          "shell.execute_reply.started": "2021-10-27T02:47:57.399532Z",
          "shell.execute_reply": "2021-10-27T02:47:57.413438Z"
        },
        "trusted": true
      },
      "execution_count": null,
      "outputs": []
    },
    {
      "cell_type": "code",
      "source": [
        "rating.info()"
      ],
      "metadata": {
        "id": "jyaUT8hhzAil",
        "execution": {
          "iopub.status.busy": "2021-10-27T02:47:57.417682Z",
          "iopub.execute_input": "2021-10-27T02:47:57.418005Z",
          "iopub.status.idle": "2021-10-27T02:47:57.430243Z",
          "shell.execute_reply.started": "2021-10-27T02:47:57.417973Z",
          "shell.execute_reply": "2021-10-27T02:47:57.429156Z"
        },
        "trusted": true
      },
      "execution_count": null,
      "outputs": []
    },
    {
      "cell_type": "code",
      "source": [
        "# Merubah data rating agar hanya berisi rating pada tempat wisata dari Kota Bandung\n",
        "\n",
        "rating = pd.merge(rating, place[['Place_Id']], how='right', on='Place_Id')\n",
        "rating.head()"
      ],
      "metadata": {
        "id": "HpkN9Ggoz7zd",
        "execution": {
          "iopub.status.busy": "2021-10-27T02:47:57.431851Z",
          "iopub.execute_input": "2021-10-27T02:47:57.432166Z",
          "iopub.status.idle": "2021-10-27T02:47:57.450842Z",
          "shell.execute_reply.started": "2021-10-27T02:47:57.432125Z",
          "shell.execute_reply": "2021-10-27T02:47:57.449940Z"
        },
        "trusted": true
      },
      "execution_count": null,
      "outputs": []
    },
    {
      "cell_type": "code",
      "source": [
        "# Melihat ukuran dataset rating untuk Kota Bandung\n",
        "\n",
        "rating.shape"
      ],
      "metadata": {
        "id": "bGlaAHg2yyws",
        "execution": {
          "iopub.status.busy": "2021-10-27T02:47:57.452746Z",
          "iopub.execute_input": "2021-10-27T02:47:57.453233Z",
          "iopub.status.idle": "2021-10-27T02:47:57.459573Z",
          "shell.execute_reply.started": "2021-10-27T02:47:57.453190Z",
          "shell.execute_reply": "2021-10-27T02:47:57.458562Z"
        },
        "trusted": true
      },
      "execution_count": null,
      "outputs": []
    },
    {
      "cell_type": "markdown",
      "source": [
        "#### 3.2.3. Data user"
      ],
      "metadata": {
        "id": "CNSsKN17y4Q-"
      }
    },
    {
      "cell_type": "code",
      "source": [
        "# Melihat gambaran data user\n",
        "\n",
        "user.head()"
      ],
      "metadata": {
        "id": "JpISoTwn06HO",
        "execution": {
          "iopub.status.busy": "2021-10-27T02:47:57.461550Z",
          "iopub.execute_input": "2021-10-27T02:47:57.461777Z",
          "iopub.status.idle": "2021-10-27T02:47:57.474513Z",
          "shell.execute_reply.started": "2021-10-27T02:47:57.461751Z",
          "shell.execute_reply": "2021-10-27T02:47:57.473546Z"
        },
        "trusted": true,
        "colab": {
          "base_uri": "https://localhost:8080/",
          "height": 206
        },
        "outputId": "6e06acc2-b54b-4afc-a807-479e95d8db60"
      },
      "execution_count": null,
      "outputs": [
        {
          "output_type": "execute_result",
          "data": {
            "text/plain": [
              "     User_Id                   Location  Age\n",
              "83         1      Semarang, Jawa Tengah   20\n",
              "18         2         Bekasi, Jawa Barat   21\n",
              "345        3        Cirebon, Jawa Barat   23\n",
              "62         4         Bekasi, Jawa Barat   21\n",
              "63         5  Lampung, Sumatera Selatan   20"
            ],
            "text/html": [
              "\n",
              "  <div id=\"df-4f61e945-a18b-4c3d-a1e5-a58ad0ccbeeb\" class=\"colab-df-container\">\n",
              "    <div>\n",
              "<style scoped>\n",
              "    .dataframe tbody tr th:only-of-type {\n",
              "        vertical-align: middle;\n",
              "    }\n",
              "\n",
              "    .dataframe tbody tr th {\n",
              "        vertical-align: top;\n",
              "    }\n",
              "\n",
              "    .dataframe thead th {\n",
              "        text-align: right;\n",
              "    }\n",
              "</style>\n",
              "<table border=\"1\" class=\"dataframe\">\n",
              "  <thead>\n",
              "    <tr style=\"text-align: right;\">\n",
              "      <th></th>\n",
              "      <th>User_Id</th>\n",
              "      <th>Location</th>\n",
              "      <th>Age</th>\n",
              "    </tr>\n",
              "  </thead>\n",
              "  <tbody>\n",
              "    <tr>\n",
              "      <th>83</th>\n",
              "      <td>1</td>\n",
              "      <td>Semarang, Jawa Tengah</td>\n",
              "      <td>20</td>\n",
              "    </tr>\n",
              "    <tr>\n",
              "      <th>18</th>\n",
              "      <td>2</td>\n",
              "      <td>Bekasi, Jawa Barat</td>\n",
              "      <td>21</td>\n",
              "    </tr>\n",
              "    <tr>\n",
              "      <th>345</th>\n",
              "      <td>3</td>\n",
              "      <td>Cirebon, Jawa Barat</td>\n",
              "      <td>23</td>\n",
              "    </tr>\n",
              "    <tr>\n",
              "      <th>62</th>\n",
              "      <td>4</td>\n",
              "      <td>Bekasi, Jawa Barat</td>\n",
              "      <td>21</td>\n",
              "    </tr>\n",
              "    <tr>\n",
              "      <th>63</th>\n",
              "      <td>5</td>\n",
              "      <td>Lampung, Sumatera Selatan</td>\n",
              "      <td>20</td>\n",
              "    </tr>\n",
              "  </tbody>\n",
              "</table>\n",
              "</div>\n",
              "    <div class=\"colab-df-buttons\">\n",
              "\n",
              "  <div class=\"colab-df-container\">\n",
              "    <button class=\"colab-df-convert\" onclick=\"convertToInteractive('df-4f61e945-a18b-4c3d-a1e5-a58ad0ccbeeb')\"\n",
              "            title=\"Convert this dataframe to an interactive table.\"\n",
              "            style=\"display:none;\">\n",
              "\n",
              "  <svg xmlns=\"http://www.w3.org/2000/svg\" height=\"24px\" viewBox=\"0 -960 960 960\">\n",
              "    <path d=\"M120-120v-720h720v720H120Zm60-500h600v-160H180v160Zm220 220h160v-160H400v160Zm0 220h160v-160H400v160ZM180-400h160v-160H180v160Zm440 0h160v-160H620v160ZM180-180h160v-160H180v160Zm440 0h160v-160H620v160Z\"/>\n",
              "  </svg>\n",
              "    </button>\n",
              "\n",
              "  <style>\n",
              "    .colab-df-container {\n",
              "      display:flex;\n",
              "      gap: 12px;\n",
              "    }\n",
              "\n",
              "    .colab-df-convert {\n",
              "      background-color: #E8F0FE;\n",
              "      border: none;\n",
              "      border-radius: 50%;\n",
              "      cursor: pointer;\n",
              "      display: none;\n",
              "      fill: #1967D2;\n",
              "      height: 32px;\n",
              "      padding: 0 0 0 0;\n",
              "      width: 32px;\n",
              "    }\n",
              "\n",
              "    .colab-df-convert:hover {\n",
              "      background-color: #E2EBFA;\n",
              "      box-shadow: 0px 1px 2px rgba(60, 64, 67, 0.3), 0px 1px 3px 1px rgba(60, 64, 67, 0.15);\n",
              "      fill: #174EA6;\n",
              "    }\n",
              "\n",
              "    .colab-df-buttons div {\n",
              "      margin-bottom: 4px;\n",
              "    }\n",
              "\n",
              "    [theme=dark] .colab-df-convert {\n",
              "      background-color: #3B4455;\n",
              "      fill: #D2E3FC;\n",
              "    }\n",
              "\n",
              "    [theme=dark] .colab-df-convert:hover {\n",
              "      background-color: #434B5C;\n",
              "      box-shadow: 0px 1px 3px 1px rgba(0, 0, 0, 0.15);\n",
              "      filter: drop-shadow(0px 1px 2px rgba(0, 0, 0, 0.3));\n",
              "      fill: #FFFFFF;\n",
              "    }\n",
              "  </style>\n",
              "\n",
              "    <script>\n",
              "      const buttonEl =\n",
              "        document.querySelector('#df-4f61e945-a18b-4c3d-a1e5-a58ad0ccbeeb button.colab-df-convert');\n",
              "      buttonEl.style.display =\n",
              "        google.colab.kernel.accessAllowed ? 'block' : 'none';\n",
              "\n",
              "      async function convertToInteractive(key) {\n",
              "        const element = document.querySelector('#df-4f61e945-a18b-4c3d-a1e5-a58ad0ccbeeb');\n",
              "        const dataTable =\n",
              "          await google.colab.kernel.invokeFunction('convertToInteractive',\n",
              "                                                    [key], {});\n",
              "        if (!dataTable) return;\n",
              "\n",
              "        const docLinkHtml = 'Like what you see? Visit the ' +\n",
              "          '<a target=\"_blank\" href=https://colab.research.google.com/notebooks/data_table.ipynb>data table notebook</a>'\n",
              "          + ' to learn more about interactive tables.';\n",
              "        element.innerHTML = '';\n",
              "        dataTable['output_type'] = 'display_data';\n",
              "        await google.colab.output.renderOutput(dataTable, element);\n",
              "        const docLink = document.createElement('div');\n",
              "        docLink.innerHTML = docLinkHtml;\n",
              "        element.appendChild(docLink);\n",
              "      }\n",
              "    </script>\n",
              "  </div>\n",
              "\n",
              "\n",
              "<div id=\"df-67906c31-a0f9-4086-9e41-f64ef6631b68\">\n",
              "  <button class=\"colab-df-quickchart\" onclick=\"quickchart('df-67906c31-a0f9-4086-9e41-f64ef6631b68')\"\n",
              "            title=\"Suggest charts\"\n",
              "            style=\"display:none;\">\n",
              "\n",
              "<svg xmlns=\"http://www.w3.org/2000/svg\" height=\"24px\"viewBox=\"0 0 24 24\"\n",
              "     width=\"24px\">\n",
              "    <g>\n",
              "        <path d=\"M19 3H5c-1.1 0-2 .9-2 2v14c0 1.1.9 2 2 2h14c1.1 0 2-.9 2-2V5c0-1.1-.9-2-2-2zM9 17H7v-7h2v7zm4 0h-2V7h2v10zm4 0h-2v-4h2v4z\"/>\n",
              "    </g>\n",
              "</svg>\n",
              "  </button>\n",
              "\n",
              "<style>\n",
              "  .colab-df-quickchart {\n",
              "      --bg-color: #E8F0FE;\n",
              "      --fill-color: #1967D2;\n",
              "      --hover-bg-color: #E2EBFA;\n",
              "      --hover-fill-color: #174EA6;\n",
              "      --disabled-fill-color: #AAA;\n",
              "      --disabled-bg-color: #DDD;\n",
              "  }\n",
              "\n",
              "  [theme=dark] .colab-df-quickchart {\n",
              "      --bg-color: #3B4455;\n",
              "      --fill-color: #D2E3FC;\n",
              "      --hover-bg-color: #434B5C;\n",
              "      --hover-fill-color: #FFFFFF;\n",
              "      --disabled-bg-color: #3B4455;\n",
              "      --disabled-fill-color: #666;\n",
              "  }\n",
              "\n",
              "  .colab-df-quickchart {\n",
              "    background-color: var(--bg-color);\n",
              "    border: none;\n",
              "    border-radius: 50%;\n",
              "    cursor: pointer;\n",
              "    display: none;\n",
              "    fill: var(--fill-color);\n",
              "    height: 32px;\n",
              "    padding: 0;\n",
              "    width: 32px;\n",
              "  }\n",
              "\n",
              "  .colab-df-quickchart:hover {\n",
              "    background-color: var(--hover-bg-color);\n",
              "    box-shadow: 0 1px 2px rgba(60, 64, 67, 0.3), 0 1px 3px 1px rgba(60, 64, 67, 0.15);\n",
              "    fill: var(--button-hover-fill-color);\n",
              "  }\n",
              "\n",
              "  .colab-df-quickchart-complete:disabled,\n",
              "  .colab-df-quickchart-complete:disabled:hover {\n",
              "    background-color: var(--disabled-bg-color);\n",
              "    fill: var(--disabled-fill-color);\n",
              "    box-shadow: none;\n",
              "  }\n",
              "\n",
              "  .colab-df-spinner {\n",
              "    border: 2px solid var(--fill-color);\n",
              "    border-color: transparent;\n",
              "    border-bottom-color: var(--fill-color);\n",
              "    animation:\n",
              "      spin 1s steps(1) infinite;\n",
              "  }\n",
              "\n",
              "  @keyframes spin {\n",
              "    0% {\n",
              "      border-color: transparent;\n",
              "      border-bottom-color: var(--fill-color);\n",
              "      border-left-color: var(--fill-color);\n",
              "    }\n",
              "    20% {\n",
              "      border-color: transparent;\n",
              "      border-left-color: var(--fill-color);\n",
              "      border-top-color: var(--fill-color);\n",
              "    }\n",
              "    30% {\n",
              "      border-color: transparent;\n",
              "      border-left-color: var(--fill-color);\n",
              "      border-top-color: var(--fill-color);\n",
              "      border-right-color: var(--fill-color);\n",
              "    }\n",
              "    40% {\n",
              "      border-color: transparent;\n",
              "      border-right-color: var(--fill-color);\n",
              "      border-top-color: var(--fill-color);\n",
              "    }\n",
              "    60% {\n",
              "      border-color: transparent;\n",
              "      border-right-color: var(--fill-color);\n",
              "    }\n",
              "    80% {\n",
              "      border-color: transparent;\n",
              "      border-right-color: var(--fill-color);\n",
              "      border-bottom-color: var(--fill-color);\n",
              "    }\n",
              "    90% {\n",
              "      border-color: transparent;\n",
              "      border-bottom-color: var(--fill-color);\n",
              "    }\n",
              "  }\n",
              "</style>\n",
              "\n",
              "  <script>\n",
              "    async function quickchart(key) {\n",
              "      const quickchartButtonEl =\n",
              "        document.querySelector('#' + key + ' button');\n",
              "      quickchartButtonEl.disabled = true;  // To prevent multiple clicks.\n",
              "      quickchartButtonEl.classList.add('colab-df-spinner');\n",
              "      try {\n",
              "        const charts = await google.colab.kernel.invokeFunction(\n",
              "            'suggestCharts', [key], {});\n",
              "      } catch (error) {\n",
              "        console.error('Error during call to suggestCharts:', error);\n",
              "      }\n",
              "      quickchartButtonEl.classList.remove('colab-df-spinner');\n",
              "      quickchartButtonEl.classList.add('colab-df-quickchart-complete');\n",
              "    }\n",
              "    (() => {\n",
              "      let quickchartButtonEl =\n",
              "        document.querySelector('#df-67906c31-a0f9-4086-9e41-f64ef6631b68 button');\n",
              "      quickchartButtonEl.style.display =\n",
              "        google.colab.kernel.accessAllowed ? 'block' : 'none';\n",
              "    })();\n",
              "  </script>\n",
              "</div>\n",
              "    </div>\n",
              "  </div>\n"
            ],
            "application/vnd.google.colaboratory.intrinsic+json": {
              "type": "dataframe",
              "variable_name": "user",
              "summary": "{\n  \"name\": \"user\",\n  \"rows\": 300,\n  \"fields\": [\n    {\n      \"column\": \"User_Id\",\n      \"properties\": {\n        \"dtype\": \"number\",\n        \"std\": 86,\n        \"min\": 1,\n        \"max\": 300,\n        \"num_unique_values\": 300,\n        \"samples\": [\n          204,\n          267,\n          153\n        ],\n        \"semantic_type\": \"\",\n        \"description\": \"\"\n      }\n    },\n    {\n      \"column\": \"Location\",\n      \"properties\": {\n        \"dtype\": \"category\",\n        \"num_unique_values\": 28,\n        \"samples\": [\n          \"Bogor, Jawa Barat\",\n          \"Purwakarat, Jawa Barat\",\n          \"Yogyakarta, DIY\"\n        ],\n        \"semantic_type\": \"\",\n        \"description\": \"\"\n      }\n    },\n    {\n      \"column\": \"Age\",\n      \"properties\": {\n        \"dtype\": \"number\",\n        \"std\": 6,\n        \"min\": 18,\n        \"max\": 40,\n        \"num_unique_values\": 23,\n        \"samples\": [\n          24,\n          34,\n          20\n        ],\n        \"semantic_type\": \"\",\n        \"description\": \"\"\n      }\n    }\n  ]\n}"
            }
          },
          "metadata": {},
          "execution_count": 50
        }
      ]
    },
    {
      "cell_type": "code",
      "source": [
        "# Merubah data user agar hanya berisi user yang pernah megunjungi wisata di Kota Bandung\n",
        "\n",
        "user = pd.merge(user, rating[['User_Id']], how='right', on='User_Id').drop_duplicates().sort_values('User_Id')\n",
        "user.head()"
      ],
      "metadata": {
        "id": "fQ_CVdh34EL4",
        "execution": {
          "iopub.status.busy": "2021-10-27T02:47:57.475978Z",
          "iopub.execute_input": "2021-10-27T02:47:57.476450Z",
          "iopub.status.idle": "2021-10-27T02:47:57.500759Z",
          "shell.execute_reply.started": "2021-10-27T02:47:57.476406Z",
          "shell.execute_reply": "2021-10-27T02:47:57.499622Z"
        },
        "trusted": true
      },
      "execution_count": null,
      "outputs": []
    },
    {
      "cell_type": "code",
      "source": [
        "# Melihat dataset user yang pernah memberi rating pada wisata di Kota Bandung\n",
        "\n",
        "user.shape"
      ],
      "metadata": {
        "id": "BhoRngVgy_ZO",
        "execution": {
          "iopub.status.busy": "2021-10-27T02:47:57.504058Z",
          "iopub.execute_input": "2021-10-27T02:47:57.504887Z",
          "iopub.status.idle": "2021-10-27T02:47:57.511537Z",
          "shell.execute_reply.started": "2021-10-27T02:47:57.504850Z",
          "shell.execute_reply": "2021-10-27T02:47:57.510675Z"
        },
        "trusted": true
      },
      "execution_count": null,
      "outputs": []
    },
    {
      "cell_type": "markdown",
      "source": [
        "## 4. Eksplorasi Data"
      ],
      "metadata": {
        "id": "VY-wWvMjt2kh"
      }
    },
    {
      "cell_type": "code",
      "source": [
        "# Membuat dataframe berisi lokasi dengan jumlah rating terbanyak\n",
        "top_10 = rating['Place_Id'].value_counts().reset_index()[0:10]\n",
        "top_10 = pd.merge(top_10, place[['Place_Id','Place_Name']], how='left', left_on='index', right_on='Place_Id')\n",
        "\n",
        "# Membuat visualisasi wisata dengan jumlah rating terbanyak\n",
        "plt.figure(figsize=(8,5))\n",
        "sns.barplot('Place_Id_x', 'Place_Name', data=top_10)\n",
        "plt.title('Jumlah Tempat Wisata dengan Rating Terbanyak', pad=20)\n",
        "plt.ylabel('Jumlah Rating')\n",
        "plt.xlabel('Nama Lokasi')\n",
        "plt.show()"
      ],
      "metadata": {
        "id": "VU0VTqlLMhME",
        "execution": {
          "iopub.status.busy": "2021-10-27T02:47:57.512826Z",
          "iopub.execute_input": "2021-10-27T02:47:57.513112Z",
          "iopub.status.idle": "2021-10-27T02:47:58.064185Z",
          "shell.execute_reply.started": "2021-10-27T02:47:57.513084Z",
          "shell.execute_reply": "2021-10-27T02:47:58.063238Z"
        },
        "trusted": true
      },
      "execution_count": null,
      "outputs": []
    },
    {
      "cell_type": "code",
      "source": [
        "# Membuat visualisasi jumlah kategori wisata di Kota Bandung\n",
        "\n",
        "sns.countplot(y='Category', data=place)\n",
        "plt.title('Perbandingan Jumlah Kategori Wisata di Kota Bandung', pad=20)\n",
        "plt.show()"
      ],
      "metadata": {
        "id": "tPPihnSA6LS8",
        "execution": {
          "iopub.status.busy": "2021-10-27T02:47:58.065436Z",
          "iopub.execute_input": "2021-10-27T02:47:58.065660Z",
          "iopub.status.idle": "2021-10-27T02:47:58.318334Z",
          "shell.execute_reply.started": "2021-10-27T02:47:58.065634Z",
          "shell.execute_reply": "2021-10-27T02:47:58.317466Z"
        },
        "trusted": true,
        "outputId": "74102ecd-acbd-4f2d-c233-eb514b86039e",
        "colab": {
          "base_uri": "https://localhost:8080/",
          "height": 500
        }
      },
      "execution_count": null,
      "outputs": [
        {
          "output_type": "display_data",
          "data": {
            "text/plain": [
              "<Figure size 640x480 with 1 Axes>"
            ],
            "image/png": "[encoded data removed]"
          },
          "metadata": {}
        }
      ]
    },
    {
      "cell_type": "code",
      "source": [
        "# Membuat visualisasi distribusi usia user\n",
        "\n",
        "plt.figure(figsize=(5,3))\n",
        "sns.boxplot(user['Age']);\n",
        "plt.title('Distribusi Usia User', pad=20)\n",
        "plt.show()"
      ],
      "metadata": {
        "id": "Nr0chrAsLl01",
        "execution": {
          "iopub.status.busy": "2021-10-27T02:47:58.319440Z",
          "iopub.execute_input": "2021-10-27T02:47:58.319681Z",
          "iopub.status.idle": "2021-10-27T02:47:58.534462Z",
          "shell.execute_reply.started": "2021-10-27T02:47:58.319653Z",
          "shell.execute_reply": "2021-10-27T02:47:58.533558Z"
        },
        "trusted": true,
        "outputId": "a29ac536-f597-4c2c-b285-d3cf4c9f714c",
        "colab": {
          "base_uri": "https://localhost:8080/",
          "height": 309
        }
      },
      "execution_count": null,
      "outputs": [
        {
          "output_type": "display_data",
          "data": {
            "text/plain": [
              "<Figure size 500x300 with 1 Axes>"
            ],
            "image/png": "[encoded data removed]"
          },
          "metadata": {}
        }
      ]
    },
    {
      "cell_type": "code",
      "source": [
        "# Membuat visualisasi distribusi harga masuk tempat wisata\n",
        "\n",
        "plt.figure(figsize=(7,3))\n",
        "sns.boxplot(place['Price'])\n",
        "plt.title('Distribusi Harga Masuk Wisata di Kota Bandung', pad=20)\n",
        "plt.show()"
      ],
      "metadata": {
        "id": "ZSHgC9UqSK3J",
        "execution": {
          "iopub.status.busy": "2021-10-27T02:47:58.536316Z",
          "iopub.execute_input": "2021-10-27T02:47:58.536645Z",
          "iopub.status.idle": "2021-10-27T02:47:58.781186Z",
          "shell.execute_reply.started": "2021-10-27T02:47:58.536602Z",
          "shell.execute_reply": "2021-10-27T02:47:58.780263Z"
        },
        "trusted": true,
        "outputId": "746c21ab-b3c9-4003-d814-c4bc0164f9ea",
        "colab": {
          "base_uri": "https://localhost:8080/",
          "height": 309
        }
      },
      "execution_count": null,
      "outputs": [
        {
          "output_type": "display_data",
          "data": {
            "text/plain": [
              "<Figure size 700x300 with 1 Axes>"
            ],
            "image/png": "[encoded data removed]"
          },
          "metadata": {}
        }
      ]
    },
    {
      "cell_type": "code",
      "source": [
        "# Memfilter asal kota dari user\n",
        "askot = user['Location'].apply(lambda x : x.split(',')[0])\n",
        "\n",
        "# Visualisasi asal kota dari user\n",
        "plt.figure(figsize=(8,6))\n",
        "sns.countplot(y=askot)\n",
        "plt.title('Jumlah Asal Kota dari User')\n",
        "plt.show()"
      ],
      "metadata": {
        "id": "kGobMR32UHps",
        "execution": {
          "iopub.status.busy": "2021-10-27T02:47:58.782474Z",
          "iopub.execute_input": "2021-10-27T02:47:58.782713Z",
          "iopub.status.idle": "2021-10-27T02:47:59.234796Z",
          "shell.execute_reply.started": "2021-10-27T02:47:58.782684Z",
          "shell.execute_reply": "2021-10-27T02:47:59.234133Z"
        },
        "trusted": true,
        "outputId": "d6e7b6f0-a546-4b48-b3b7-9b4b40e0357a",
        "colab": {
          "base_uri": "https://localhost:8080/",
          "height": 573
        }
      },
      "execution_count": null,
      "outputs": [
        {
          "output_type": "display_data",
          "data": {
            "text/plain": [
              "<Figure size 800x600 with 1 Axes>"
            ],
            "image/png": "[encoded data removed]"
          },
          "metadata": {}
        }
      ]
    }
  ]
}